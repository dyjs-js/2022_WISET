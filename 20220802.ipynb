{
  "nbformat": 4,
  "nbformat_minor": 0,
  "metadata": {
    "colab": {
      "name": "20220802.ipynb",
      "provenance": [],
      "collapsed_sections": [],
      "authorship_tag": "ABX9TyNgVf0B0VJ/Q8p5K1imULJj",
      "include_colab_link": true
    },
    "kernelspec": {
      "name": "python3",
      "display_name": "Python 3"
    },
    "language_info": {
      "name": "python"
    }
  },
  "cells": [
    {
      "cell_type": "markdown",
      "metadata": {
        "id": "view-in-github",
        "colab_type": "text"
      },
      "source": [
        "<a href=\"https://colab.research.google.com/github/dyjs-js/2022_WISET/blob/main/20220802.ipynb\" target=\"_parent\"><img src=\"https://colab.research.google.com/assets/colab-badge.svg\" alt=\"Open In Colab\"/></a>"
      ]
    },
    {
      "cell_type": "markdown",
      "source": [
        "# 모듈 임포팅"
      ],
      "metadata": {
        "id": "lin4RDweWSM7"
      }
    },
    {
      "cell_type": "code",
      "source": [
        "import numpy as np\n",
        "import pandas as pd\n",
        "import matplotlib.pyplot as plt\n",
        "\n",
        "import tensorflow as tf\n",
        "from tensorflow import keras\n",
        "from tensorflow.keras import optimizers\n",
        "from tensorflow.keras.layers import Dense, Input\n",
        "\n",
        "import time"
      ],
      "metadata": {
        "id": "tpwSDc1mWRMQ"
      },
      "execution_count": null,
      "outputs": []
    },
    {
      "cell_type": "markdown",
      "source": [
        "# Keras DNN 최소 코드"
      ],
      "metadata": {
        "id": "3vIJvxhnW5mK"
      }
    },
    {
      "cell_type": "markdown",
      "source": [
        "# 데이터 준비\n",
        "\n",
        "1차원 데이터 x와 x**2의 1차원 데이터 y"
      ],
      "metadata": {
        "id": "WGzsjScUXB2u"
      }
    },
    {
      "cell_type": "code",
      "source": [
        "import numpy as np\n",
        "\n",
        "x = np.arange(-1,1,0.01)\n",
        "y= x**2\n",
        "\n",
        "plt.scatter(x,y)"
      ],
      "metadata": {
        "colab": {
          "base_uri": "https://localhost:8080/",
          "height": 283
        },
        "id": "ymySom_nXSCo",
        "outputId": "c4c9a96e-56c9-40b8-d40d-acff150dfec6"
      },
      "execution_count": null,
      "outputs": [
        {
          "output_type": "execute_result",
          "data": {
            "text/plain": [
              "<matplotlib.collections.PathCollection at 0x7f209f75fb10>"
            ]
          },
          "metadata": {},
          "execution_count": 7
        },
        {
          "output_type": "display_data",
          "data": {
            "text/plain": [
              "<Figure size 432x288 with 1 Axes>"
            ],
            "image/png": "[encoded data removed]"
          },
          "metadata": {
            "needs_background": "light"
          }
        }
      ]
    },
    {
      "cell_type": "code",
      "source": [
        "print(len(x))\n",
        "print(x.shape)"
      ],
      "metadata": {
        "colab": {
          "base_uri": "https://localhost:8080/"
        },
        "id": "iSXAAQMOXhVk",
        "outputId": "c334d6e1-372b-47fa-eaf4-a198321bb71b"
      },
      "execution_count": null,
      "outputs": [
        {
          "output_type": "stream",
          "name": "stdout",
          "text": [
            "200\n",
            "(200,)\n"
          ]
        }
      ]
    },
    {
      "cell_type": "markdown",
      "source": [
        "#최소코드\n",
        "아래 코드는 최소코드"
      ],
      "metadata": {
        "id": "x92ulSKmX8ci"
      }
    },
    {
      "cell_type": "code",
      "source": [
        "import numpy as np\n",
        "import matplotlib.pyplot as plt\n",
        "\n",
        "from tensorflow import keras\n",
        "from tensorflow.keras import optimizers\n",
        "from tensorflow.keras.layers import Dense, Input\n",
        "\n",
        "import time\n",
        "\n",
        "\n",
        "# 모델 정의\n",
        "model=keras.Sequential()\n",
        "model.add(Input(1))\n",
        "model.add(Dense(10,activation='tanh'))\n",
        "model.add(Dense(10, activation='tanh'))\n",
        "model.add(Dense(1))\n",
        "\n",
        "#컴파일 : 모델 + optimizer + loss\n",
        "model.compile(optimizer=\"SGD\", loss=\"mse\")\n",
        "\n",
        "#학습\n",
        "model.fit(x,y, epochs=1000, verbose=0, batch_size=32)\n",
        "#(입력,출력)\n",
        "\n",
        "#예측\n",
        "y_=model.predict(x)\n",
        "\n",
        "#결과 그래프로 보기\n",
        "plt.scatter(x,y)\n",
        "plt.scatter(x,y_,color='r')\n",
        "plt.show()"
      ],
      "metadata": {
        "colab": {
          "base_uri": "https://localhost:8080/",
          "height": 265
        },
        "id": "IK9dcxAvX-d5",
        "outputId": "9801f74c-c890-4bf3-fb97-f9ea3798c1d0"
      },
      "execution_count": null,
      "outputs": [
        {
          "output_type": "display_data",
          "data": {
            "text/plain": [
              "<Figure size 432x288 with 1 Axes>"
            ],
            "image/png": "[encoded data removed]"
          },
          "metadata": {
            "needs_background": "light"
          }
        }
      ]
    },
    {
      "cell_type": "markdown",
      "source": [
        "## model.evaluate() - 성능 평가하기."
      ],
      "metadata": {
        "id": "F8D5bBJro6iz"
      }
    },
    {
      "cell_type": "code",
      "source": [
        "from tensorflow.keras import optimizers\n",
        "from tensorflow.keras.layers import Dense\n",
        "\n",
        "model=keras.Sequential()\n",
        "model.add(Input(1))\n",
        "model.add(Dense(10, activation='tanh'))\n",
        "model.add(Dense(10, activation='tanh'))\n",
        "model.add(Dense(1))\n",
        "\n",
        "#model.compile(optimizer=\"SGD\", loss=\"mse\")\n",
        "model.compile(optimizer=\"SGD\", loss=\"mse\", metrics=[\"mae\"])\n",
        "\n",
        "model.fit(x,y, epochs=1000, verbose=0, batch_size=32)\n",
        "\n",
        "\n",
        "loss, mae = model.evaluate(x,y) #ADD\n",
        "print(\"loss=\", loss) #ADD\n",
        "print(\"mae\", mae) # ADD\n",
        "\n",
        "y_=model.predict(x)\n",
        "\n",
        "plt.scatter(x,y)\n",
        "plt.scatter(x,y_,color='r')\n",
        "plt.show()\n"
      ],
      "metadata": {
        "colab": {
          "base_uri": "https://localhost:8080/",
          "height": 319
        },
        "id": "Qa9tXwnrpBXR",
        "outputId": "30f52f4b-c409-49e3-ba69-c9b75b9f5945"
      },
      "execution_count": null,
      "outputs": [
        {
          "output_type": "stream",
          "name": "stdout",
          "text": [
            "7/7 [==============================] - 0s 2ms/step - loss: 0.0011 - mae: 0.0274\n",
            "loss= 0.0010734574170783162\n",
            "mae 0.02742672897875309\n"
          ]
        },
        {
          "output_type": "display_data",
          "data": {
            "text/plain": [
              "<Figure size 432x288 with 1 Axes>"
            ],
            "image/png": "[encoded data removed]"
          },
          "metadata": {
            "needs_background": "light"
          }
        }
      ]
    },
    {
      "cell_type": "markdown",
      "source": [
        "## 테스트셋으로 평가하기\n",
        "데이터를 train과 test으로 나누어 준비한다"
      ],
      "metadata": {
        "id": "dPhnayxErCvV"
      }
    },
    {
      "cell_type": "code",
      "source": [
        "x=np.arange(-1,1,0.01)\n",
        "np.random.shuffle(x)\n",
        "y=x**2\n",
        "\n",
        "split_index=int(x.shape[0]*0.6)\n",
        "\n",
        "train_x, test_x = x[:split_index], x[split_index:]\n",
        "train_y, test_y = y[:split_index], y[split_index:]\n",
        "\n",
        "#점찍기\n",
        "plt.scatter(train_x, train_y)\n",
        "plt.scatter(test_x, test_y)\n",
        "plt.show()"
      ],
      "metadata": {
        "colab": {
          "base_uri": "https://localhost:8080/",
          "height": 265
        },
        "id": "Gbv2bqzUrG62",
        "outputId": "5c295bf1-699b-4006-8273-0027016c327a"
      },
      "execution_count": null,
      "outputs": [
        {
          "output_type": "display_data",
          "data": {
            "text/plain": [
              "<Figure size 432x288 with 1 Axes>"
            ],
            "image/png": "[encoded data removed]"
          },
          "metadata": {
            "needs_background": "light"
          }
        }
      ]
    },
    {
      "cell_type": "code",
      "source": [
        "model=keras.Sequential()\n",
        "model.add(Input(1))\n",
        "model.add(Dense(10, activation='tanh'))\n",
        "model.add(Dense(10, activation='tanh'))\n",
        "model.add(Dense(1))\n",
        "\n",
        "\n",
        "model.compile(optimizer=\"SGD\", loss=\"mse\", metrics=[\"mae\"])\n",
        "\n",
        "model.fit(train_x, train_y, epochs=1000, verbose=0, batch_size=32)\n",
        "\n",
        "loss, mae = model.evaluate(test_x, test_y)\n",
        "print(\"loss=\", loss)\n",
        "print(\"mae=\", mae)\n",
        "\n",
        "y_=model.predict(test_x)\n",
        "\n",
        "plt.scatter(test_x, test_y)\n",
        "plt.scatter(test_x,y_,color='r')\n",
        "plt.show()"
      ],
      "metadata": {
        "colab": {
          "base_uri": "https://localhost:8080/",
          "height": 319
        },
        "id": "_WLLpZcfs7GB",
        "outputId": "16f60811-d601-4688-9b5f-047eb5b1317d"
      },
      "execution_count": null,
      "outputs": [
        {
          "output_type": "stream",
          "name": "stdout",
          "text": [
            "3/3 [==============================] - 0s 3ms/step - loss: 0.0029 - mae: 0.0435\n",
            "loss= 0.002857042709365487\n",
            "mae= 0.04346426576375961\n"
          ]
        },
        {
          "output_type": "display_data",
          "data": {
            "text/plain": [
              "<Figure size 432x288 with 1 Axes>"
            ],
            "image/png": "[encoded data removed]"
          },
          "metadata": {
            "needs_background": "light"
          }
        }
      ]
    },
    {
      "cell_type": "code",
      "source": [
        ""
      ],
      "metadata": {
        "id": "S7SteuPKt4my"
      },
      "execution_count": null,
      "outputs": []
    }
  ]
}